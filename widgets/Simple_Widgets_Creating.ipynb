{
 "cells": [
  {
   "cell_type": "markdown",
   "id": "5f4743b3",
   "metadata": {},
   "source": [
    "## Creating a New widgets"
   ]
  },
  {
   "cell_type": "code",
   "execution_count": 9,
   "id": "c68c1d10",
   "metadata": {},
   "outputs": [],
   "source": [
    "from ipywidgets import Label, Layout, Box"
   ]
  },
  {
   "cell_type": "code",
   "execution_count": 2,
   "id": "96e6d4c9",
   "metadata": {},
   "outputs": [
    {
     "data": {
      "application/vnd.jupyter.widget-view+json": {
       "model_id": "bd481ce84a074bf8a87dc2b15bd1ab59",
       "version_major": 2,
       "version_minor": 0
      },
      "text/plain": [
       "Label(value='Colours')"
      ]
     },
     "execution_count": 2,
     "metadata": {},
     "output_type": "execute_result"
    }
   ],
   "source": [
    "text1 = Label(\"Colours\")\n",
    "text1"
   ]
  },
  {
   "cell_type": "code",
   "execution_count": 22,
   "id": "58ebc09f",
   "metadata": {},
   "outputs": [
    {
     "data": {
      "application/vnd.jupyter.widget-view+json": {
       "model_id": "1f1cd34fbc674a058824ee51d770d86d",
       "version_major": 2,
       "version_minor": 0
      },
      "text/plain": [
       "Label(value='Colour', layout=Layout(border_bottom='solid', border_left='solid', border_right='solid', border_t…"
      ]
     },
     "execution_count": 22,
     "metadata": {},
     "output_type": "execute_result"
    }
   ],
   "source": [
    "text1 = Label(value='Colour', layout=Layout(display=\"flex\", justify_content=\"center\", width=\"30%\", border=\"solid\"))\n",
    "text1.style.font_size = '20px'\n",
    "text1.style.font_weight = 'bold'\n",
    "text1"
   ]
  },
  {
   "cell_type": "code",
   "execution_count": 23,
   "id": "059e15c7",
   "metadata": {},
   "outputs": [
    {
     "data": {
      "application/vnd.jupyter.widget-view+json": {
       "model_id": "1d2e7ea727104a758ce55be49c68484e",
       "version_major": 2,
       "version_minor": 0
      },
      "text/plain": [
       "Label(value='Red', layout=Layout(border_bottom='solid', border_left='solid', border_right='solid', border_top=…"
      ]
     },
     "metadata": {},
     "output_type": "display_data"
    }
   ],
   "source": [
    "text2 = Label(value='Red', layout=Layout(display=\"flex\", justify_content=\"center\", width=\"30%\", border=\"solid\"))\n",
    "text2.style.font_size = '20px'\n",
    "text2.style.font_weight = 'bold'\n",
    "text2.style.color = 'red'\n",
    "display(text2)\n"
   ]
  },
  {
   "cell_type": "code",
   "execution_count": 25,
   "id": "107f909d",
   "metadata": {},
   "outputs": [
    {
     "data": {
      "application/vnd.jupyter.widget-view+json": {
       "model_id": "43a75f75552d4871b57e69bdce06d98d",
       "version_major": 2,
       "version_minor": 0
      },
      "text/plain": [
       "Label(value='\\tGreen', layout=Layout(border_bottom='solid', border_left='solid', border_right='solid', border_…"
      ]
     },
     "execution_count": 25,
     "metadata": {},
     "output_type": "execute_result"
    }
   ],
   "source": [
    "text3 = Label(value='\\tGreen',layout=Layout(display=\"flex\", justify_content=\"center\", width=\"30%\", border=\"solid\"))\n",
    "text3.style.font_size = '20px'\n",
    "text3.style.font_weight = 'bold'\n",
    "\n",
    "text3"
   ]
  },
  {
   "cell_type": "code",
   "execution_count": 26,
   "id": "0ffb9857",
   "metadata": {},
   "outputs": [
    {
     "data": {
      "application/vnd.jupyter.widget-view+json": {
       "model_id": "4f5de4ffbc354f6099b704b08fdaf19b",
       "version_major": 2,
       "version_minor": 0
      },
      "text/plain": [
       "Label(value='Yellow', layout=Layout(border_bottom='solid', border_left='solid', border_right='solid', border_t…"
      ]
     },
     "execution_count": 26,
     "metadata": {},
     "output_type": "execute_result"
    }
   ],
   "source": [
    "text4 = Label(value='Yellow', layout=Layout(display=\"flex\", justify_content=\"center\", width=\"30%\", border=\"solid\"))\n",
    "text4.style.font_size = '20px'\n",
    "text4.style.font_weight = 'bold'\n",
    "text4"
   ]
  },
  {
   "cell_type": "code",
   "execution_count": 21,
   "id": "d5f3bb7b",
   "metadata": {},
   "outputs": [
    {
     "data": {
      "application/vnd.jupyter.widget-view+json": {
       "model_id": "86c77183f87c45b3ab2a2dc6c1e3293e",
       "version_major": 2,
       "version_minor": 0
      },
      "text/plain": [
       "Box(children=(Label(value='\\tColour', layout=Layout(height='auto', width='auto'), style=LabelStyle(font_size='…"
      ]
     },
     "execution_count": 21,
     "metadata": {},
     "output_type": "execute_result"
    }
   ],
   "source": [
    "from ipywidgets import widgets\n",
    "layout = widgets.Layout(display='flex',\n",
    "         flex_flow='column',\n",
    "         border='solid',\n",
    "         width='30%',\n",
    "        )\n",
    "\n",
    "widgets.Box(children=[text1,text2,text3,text4], layout=layout)"
   ]
  },
  {
   "cell_type": "code",
   "execution_count": null,
   "id": "80f28503",
   "metadata": {},
   "outputs": [],
   "source": [
    "from ipywidgets import Label, Layout\n",
    "\n",
    "label = Label(value='Hello World', layout=Layout(width='auto', height='auto'))\n",
    "label.style.font_family = 'Arial'\n",
    "label.style.color = 'red'\n",
    "label"
   ]
  },
  {
   "cell_type": "code",
   "execution_count": null,
   "id": "28d363bd",
   "metadata": {},
   "outputs": [],
   "source": [
    "text3 = Label(value='Green', layout=Layout(width='auto', height='auto'))\n",
    "text3.style.font_size = '20px'\n",
    "text3.style.font_weight = 'bold'\n",
    "text3.\n",
    "text3"
   ]
  }
 ],
 "metadata": {
  "kernelspec": {
   "display_name": "Python 3 (ipykernel)",
   "language": "python",
   "name": "python3"
  },
  "language_info": {
   "codemirror_mode": {
    "name": "ipython",
    "version": 3
   },
   "file_extension": ".py",
   "mimetype": "text/x-python",
   "name": "python",
   "nbconvert_exporter": "python",
   "pygments_lexer": "ipython3",
   "version": "3.11.4"
  },
  "widgets": {
   "application/vnd.jupyter.widget-state+json": {
    "state": {},
    "version_major": 2,
    "version_minor": 0
   }
  }
 },
 "nbformat": 4,
 "nbformat_minor": 5
}
