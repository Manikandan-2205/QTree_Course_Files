{
 "cells": [
  {
   "cell_type": "markdown",
   "id": "06f3bad5",
   "metadata": {},
   "source": [
    "# Assignment (15.08.2023)"
   ]
  },
  {
   "cell_type": "code",
   "execution_count": 2,
   "id": "77c94f63",
   "metadata": {},
   "outputs": [],
   "source": [
    "File = open(\"file1.txt\",'w')"
   ]
  },
  {
   "cell_type": "code",
   "execution_count": 6,
   "id": "7f90d602",
   "metadata": {},
   "outputs": [
    {
     "name": "stdout",
     "output_type": "stream",
     "text": [
      "She is\n",
      "pretty\n",
      "He is\n",
      "Handsome\n",
      "\n"
     ]
    }
   ],
   "source": [
    "file1 = open('file1.txt', 'w')\n",
    "L = [\"She is\\n\", \"pretty\\n\", \"He is\\n\", \"Handsome\\n\"]\n",
    "\n",
    "file1.writelines(L)\n",
    "\n",
    "file1.close()\n",
    " \n",
    "\n",
    "file1 = open('file1.txt', 'r')\n",
    "print(file1.read())\n",
    "file1.close()"
   ]
  },
  {
   "cell_type": "markdown",
   "id": "c6ea5495",
   "metadata": {},
   "source": [
    "# create function"
   ]
  },
  {
   "cell_type": "code",
   "execution_count": 8,
   "id": "109c8346",
   "metadata": {},
   "outputs": [
    {
     "name": "stdout",
     "output_type": "stream",
     "text": [
      "Enter your Power needed Number:3\n",
      "27\n"
     ]
    }
   ],
   "source": [
    "# Power value find with function\n",
    "def power(x):\n",
    "    x = x**3\n",
    "    return x\n",
    "value = power(int(input(\"Enter your Power needed Number: \")))\n",
    "print(value)"
   ]
  },
  {
   "cell_type": "code",
   "execution_count": 9,
   "id": "9d8db2cd",
   "metadata": {},
   "outputs": [
    {
     "name": "stdout",
     "output_type": "stream",
     "text": [
      "Enter your First Number: 3\n",
      "Enter your Second Number: 5\n",
      "3 and 5 sum value is:  8\n"
     ]
    }
   ],
   "source": [
    "def add(a,b):\n",
    "    c= a+b\n",
    "    return c\n",
    "a = int(input(\"Enter your First Number: \"))\n",
    "b = int(input(\"Enter your Second Number: \"))\n",
    "print(f'{a} and {b} sum value is: ',add(a,b))"
   ]
  },
  {
   "cell_type": "code",
   "execution_count": null,
   "id": "45dd21f9",
   "metadata": {},
   "outputs": [],
   "source": []
  },
  {
   "cell_type": "markdown",
   "id": "fa38540f",
   "metadata": {},
   "source": [
    "# File Operation exercise"
   ]
  },
  {
   "cell_type": "code",
   "execution_count": 11,
   "id": "ff7f7eed",
   "metadata": {},
   "outputs": [
    {
     "name": "stdout",
     "output_type": "stream",
     "text": [
      "4\n"
     ]
    }
   ],
   "source": [
    "# fileno() find Number of line in file\n",
    "f = open(\"file1.txt\", \"r\")\n",
    "print(f.fileno())"
   ]
  },
  {
   "cell_type": "code",
   "execution_count": 12,
   "id": "4b72f944",
   "metadata": {},
   "outputs": [
    {
     "data": {
      "text/plain": [
       "21"
      ]
     },
     "execution_count": 12,
     "metadata": {},
     "output_type": "execute_result"
    }
   ],
   "source": [
    "# flush() methods \n",
    "f = open(\"myfile.txt\", \"a\")\n",
    "f.write(\"File not empty\")\n",
    "f.flush()\n",
    "f.write(\"...Add Some Words....\")"
   ]
  },
  {
   "cell_type": "code",
   "execution_count": 13,
   "id": "bc6fea18",
   "metadata": {},
   "outputs": [
    {
     "name": "stdout",
     "output_type": "stream",
     "text": [
      "File not empty...Add Some Words....\n"
     ]
    }
   ],
   "source": [
    "f = open(r'myfile.txt')\n",
    "print(f.read())"
   ]
  },
  {
   "cell_type": "code",
   "execution_count": 16,
   "id": "a2f97714",
   "metadata": {},
   "outputs": [
    {
     "name": "stdout",
     "output_type": "stream",
     "text": [
      "False\n"
     ]
    }
   ],
   "source": [
    "# isatty() methods\n",
    "f = open(\"myfile.txt\", \"r\")\n",
    "print(f.isatty())"
   ]
  },
  {
   "cell_type": "code",
   "execution_count": 18,
   "id": "50ecafe0",
   "metadata": {},
   "outputs": [
    {
     "name": "stdout",
     "output_type": "stream",
     "text": [
      "['She is\\n', 'pretty\\n', 'He is\\n', 'Handsome\\n']\n"
     ]
    }
   ],
   "source": [
    "# readlines() Methods\n",
    "f = open(\"file1.txt\", \"r\")\n",
    "print(f.readlines())"
   ]
  },
  {
   "cell_type": "code",
   "execution_count": 48,
   "id": "f6d99c4a",
   "metadata": {},
   "outputs": [
    {
     "name": "stdout",
     "output_type": "stream",
     "text": [
      "She is\n",
      "pretty\n",
      "He is\n",
      "Handsome\n",
      "\n"
     ]
    }
   ],
   "source": [
    "# write() methods \n",
    "f = open(\"myfile.txt\", \"w\")\n",
    "lis = [\"She is\\n\", \"pretty\\n\", \"He is\\n\", \"Handsome\\n\"]\n",
    "f.writelines(lis)\n",
    "f = open(\"myfile.txt\", \"r\")\n",
    "print(f.read())\n",
    "f.close()"
   ]
  },
  {
   "cell_type": "code",
   "execution_count": 43,
   "id": "043d89f4",
   "metadata": {},
   "outputs": [
    {
     "name": "stdout",
     "output_type": "stream",
     "text": [
      "She is\n",
      "pretty\n",
      "He is\n",
      "Handsome\n",
      "\n"
     ]
    }
   ],
   "source": [
    "# seek() Methods\n",
    "f = open(\"myfile.txt\", \"r\")\n",
    "# f.seek(0)\n",
    "print(f.read())"
   ]
  },
  {
   "cell_type": "code",
   "execution_count": 44,
   "id": "7576ac72",
   "metadata": {},
   "outputs": [
    {
     "name": "stdout",
     "output_type": "stream",
     "text": [
      "True\n"
     ]
    }
   ],
   "source": [
    "# seekable()\n",
    "f = open(\"myfile.txt\", \"r\")\n",
    "\n",
    "print(f.seekable())"
   ]
  },
  {
   "cell_type": "code",
   "execution_count": 47,
   "id": "9bfe837c",
   "metadata": {},
   "outputs": [
    {
     "name": "stdout",
     "output_type": "stream",
     "text": [
      "She i\n"
     ]
    }
   ],
   "source": [
    "# truncate()\n",
    "f = open(\"myfile.txt\", \"a\")\n",
    "f.truncate()\n",
    "f.close()\n",
    "\n",
    "f = open(\"myfile.txt\", \"r\")\n",
    "print(f.read())\n"
   ]
  },
  {
   "cell_type": "code",
   "execution_count": null,
   "id": "fa87d996",
   "metadata": {},
   "outputs": [],
   "source": []
  }
 ],
 "metadata": {
  "kernelspec": {
   "display_name": "Python 3 (ipykernel)",
   "language": "python",
   "name": "python3"
  },
  "language_info": {
   "codemirror_mode": {
    "name": "ipython",
    "version": 3
   },
   "file_extension": ".py",
   "mimetype": "text/x-python",
   "name": "python",
   "nbconvert_exporter": "python",
   "pygments_lexer": "ipython3",
   "version": "3.11.4"
  }
 },
 "nbformat": 4,
 "nbformat_minor": 5
}
