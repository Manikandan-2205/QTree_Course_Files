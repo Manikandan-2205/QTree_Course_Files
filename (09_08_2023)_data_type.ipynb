{
 "cells": [
  {
   "cell_type": "markdown",
   "id": "31120ec4",
   "metadata": {},
   "source": [
    "# Data Type\n",
    "\n",
    "## INTEGER"
   ]
  },
  {
   "cell_type": "code",
   "execution_count": null,
   "id": "b53f041b",
   "metadata": {},
   "outputs": [],
   "source": [
    "a=10\n",
    "type(a)"
   ]
  },
  {
   "cell_type": "code",
   "execution_count": 2,
   "id": "27328685",
   "metadata": {},
   "outputs": [
    {
     "name": "stdout",
     "output_type": "stream",
     "text": [
      "Enter you Number:4\n"
     ]
    },
    {
     "data": {
      "text/plain": [
       "True"
      ]
     },
     "execution_count": 2,
     "metadata": {},
     "output_type": "execute_result"
    }
   ],
   "source": [
    "num = int(input(\"Enter you Number:\"))\n",
    "isinstance(num,int)"
   ]
  },
  {
   "cell_type": "code",
   "execution_count": 3,
   "id": "fc7c697b",
   "metadata": {},
   "outputs": [
    {
     "data": {
      "text/plain": [
       "120"
      ]
     },
     "execution_count": 3,
     "metadata": {},
     "output_type": "execute_result"
    }
   ],
   "source": [
    "import math\n",
    "\n",
    "math.factorial(5)"
   ]
  },
  {
   "cell_type": "code",
   "execution_count": 8,
   "id": "2f1a9fdc",
   "metadata": {},
   "outputs": [
    {
     "data": {
      "text/plain": [
       "['__doc__',\n",
       " '__loader__',\n",
       " '__name__',\n",
       " '__package__',\n",
       " '__spec__',\n",
       " 'acos',\n",
       " 'acosh',\n",
       " 'asin',\n",
       " 'asinh',\n",
       " 'atan',\n",
       " 'atan2',\n",
       " 'atanh',\n",
       " 'cbrt',\n",
       " 'ceil',\n",
       " 'comb',\n",
       " 'copysign',\n",
       " 'cos',\n",
       " 'cosh',\n",
       " 'degrees',\n",
       " 'dist',\n",
       " 'e',\n",
       " 'erf',\n",
       " 'erfc',\n",
       " 'exp',\n",
       " 'exp2',\n",
       " 'expm1',\n",
       " 'fabs',\n",
       " 'factorial',\n",
       " 'floor',\n",
       " 'fmod',\n",
       " 'frexp',\n",
       " 'fsum',\n",
       " 'gamma',\n",
       " 'gcd',\n",
       " 'hypot',\n",
       " 'inf',\n",
       " 'isclose',\n",
       " 'isfinite',\n",
       " 'isinf',\n",
       " 'isnan',\n",
       " 'isqrt',\n",
       " 'lcm',\n",
       " 'ldexp',\n",
       " 'lgamma',\n",
       " 'log',\n",
       " 'log10',\n",
       " 'log1p',\n",
       " 'log2',\n",
       " 'modf',\n",
       " 'nan',\n",
       " 'nextafter',\n",
       " 'perm',\n",
       " 'pi',\n",
       " 'pow',\n",
       " 'prod',\n",
       " 'radians',\n",
       " 'remainder',\n",
       " 'sin',\n",
       " 'sinh',\n",
       " 'sqrt',\n",
       " 'tan',\n",
       " 'tanh',\n",
       " 'tau',\n",
       " 'trunc',\n",
       " 'ulp']"
      ]
     },
     "execution_count": 8,
     "metadata": {},
     "output_type": "execute_result"
    }
   ],
   "source": [
    "dir(math)"
   ]
  },
  {
   "cell_type": "code",
   "execution_count": 35,
   "id": "fb8700f7",
   "metadata": {},
   "outputs": [
    {
     "data": {
      "text/plain": [
       "0.0"
      ]
     },
     "execution_count": 35,
     "metadata": {},
     "output_type": "execute_result"
    }
   ],
   "source": [
    "math.remainder(30,3)"
   ]
  },
  {
   "cell_type": "code",
   "execution_count": 37,
   "id": "19644187",
   "metadata": {},
   "outputs": [
    {
     "data": {
      "text/plain": [
       "16.0"
      ]
     },
     "execution_count": 37,
     "metadata": {},
     "output_type": "execute_result"
    }
   ],
   "source": [
    "math.sqrt(256)"
   ]
  },
  {
   "cell_type": "code",
   "execution_count": 41,
   "id": "b5bc2dc3",
   "metadata": {},
   "outputs": [
    {
     "data": {
      "text/plain": [
       "2.842170943040401e-14"
      ]
     },
     "execution_count": 41,
     "metadata": {},
     "output_type": "execute_result"
    }
   ],
   "source": [
    "x  =245\n",
    "math.ulp(x)"
   ]
  },
  {
   "cell_type": "code",
   "execution_count": 9,
   "id": "79b260bc",
   "metadata": {},
   "outputs": [
    {
     "data": {
      "text/plain": [
       "0.8939966636005579"
      ]
     },
     "execution_count": 9,
     "metadata": {},
     "output_type": "execute_result"
    }
   ],
   "source": [
    "math.sin(90)"
   ]
  },
  {
   "cell_type": "code",
   "execution_count": 10,
   "id": "674a4db3",
   "metadata": {},
   "outputs": [
    {
     "data": {
      "text/plain": [
       "-0.4480736161291701"
      ]
     },
     "execution_count": 10,
     "metadata": {},
     "output_type": "execute_result"
    }
   ],
   "source": [
    "math.cos(90)"
   ]
  },
  {
   "cell_type": "code",
   "execution_count": 12,
   "id": "05070d93",
   "metadata": {},
   "outputs": [
    {
     "name": "stdout",
     "output_type": "stream",
     "text": [
      "14\n"
     ]
    }
   ],
   "source": [
    "a = 10+4\n",
    "print(a)"
   ]
  },
  {
   "cell_type": "markdown",
   "id": "8fedca56",
   "metadata": {},
   "source": [
    "### arthmatic"
   ]
  },
  {
   "cell_type": "code",
   "execution_count": 13,
   "id": "0ef8a636",
   "metadata": {},
   "outputs": [
    {
     "name": "stdout",
     "output_type": "stream",
     "text": [
      "3000.0\n"
     ]
    }
   ],
   "source": [
    "print(3e3)"
   ]
  },
  {
   "cell_type": "code",
   "execution_count": 17,
   "id": "97553eb0",
   "metadata": {},
   "outputs": [
    {
     "name": "stdout",
     "output_type": "stream",
     "text": [
      "81\n"
     ]
    }
   ],
   "source": [
    "print(3**4)"
   ]
  },
  {
   "cell_type": "code",
   "execution_count": 19,
   "id": "9e2f2844",
   "metadata": {},
   "outputs": [
    {
     "data": {
      "text/plain": [
       "int"
      ]
     },
     "execution_count": 19,
     "metadata": {},
     "output_type": "execute_result"
    }
   ],
   "source": [
    "a = 43\n",
    "type(a)"
   ]
  },
  {
   "cell_type": "markdown",
   "id": "3b24b749",
   "metadata": {},
   "source": [
    "## Return int value in class"
   ]
  },
  {
   "cell_type": "code",
   "execution_count": 27,
   "id": "5616c008",
   "metadata": {},
   "outputs": [
    {
     "name": "stdout",
     "output_type": "stream",
     "text": [
      "90\n"
     ]
    }
   ],
   "source": [
    "class inte:\n",
    "    mark = 90\n",
    "    def __mark__ (self,mark):\n",
    "        return self.mark \n",
    "\n",
    "inte = inte()\n",
    "print(int(inte.mark))"
   ]
  },
  {
   "cell_type": "markdown",
   "id": "93179dde",
   "metadata": {},
   "source": [
    "# String"
   ]
  },
  {
   "cell_type": "code",
   "execution_count": 5,
   "id": "593dce1c",
   "metadata": {},
   "outputs": [],
   "source": [
    "python = \"Python programming is very easy and flexible.\""
   ]
  },
  {
   "cell_type": "code",
   "execution_count": 6,
   "id": "ab5ea188",
   "metadata": {},
   "outputs": [
    {
     "data": {
      "text/plain": [
       "'Python'"
      ]
     },
     "execution_count": 6,
     "metadata": {},
     "output_type": "execute_result"
    }
   ],
   "source": [
    "python[0:6]"
   ]
  },
  {
   "cell_type": "code",
   "execution_count": 11,
   "id": "26e1515c",
   "metadata": {},
   "outputs": [
    {
     "data": {
      "text/plain": [
       "'flexible'"
      ]
     },
     "execution_count": 11,
     "metadata": {},
     "output_type": "execute_result"
    }
   ],
   "source": [
    "python[-9:-1]"
   ]
  },
  {
   "cell_type": "code",
   "execution_count": 12,
   "id": "9d24b882",
   "metadata": {},
   "outputs": [
    {
     "data": {
      "text/plain": [
       "'n programming is very easy and flexible.'"
      ]
     },
     "execution_count": 12,
     "metadata": {},
     "output_type": "execute_result"
    }
   ],
   "source": [
    "python[5:]"
   ]
  },
  {
   "cell_type": "code",
   "execution_count": 13,
   "id": "3d207815",
   "metadata": {},
   "outputs": [
    {
     "data": {
      "text/plain": [
       "'Python'"
      ]
     },
     "execution_count": 13,
     "metadata": {},
     "output_type": "execute_result"
    }
   ],
   "source": [
    "python[:6]"
   ]
  },
  {
   "cell_type": "code",
   "execution_count": 18,
   "id": "4973184f",
   "metadata": {},
   "outputs": [
    {
     "data": {
      "text/plain": [
       "'.elbixelf dna ysae yrev si gnimmargorp nohtyP'"
      ]
     },
     "execution_count": 18,
     "metadata": {},
     "output_type": "execute_result"
    }
   ],
   "source": [
    "python[::-1]"
   ]
  },
  {
   "cell_type": "code",
   "execution_count": 21,
   "id": "f8bdb639",
   "metadata": {},
   "outputs": [
    {
     "data": {
      "text/plain": [
       "'Py'"
      ]
     },
     "execution_count": 21,
     "metadata": {},
     "output_type": "execute_result"
    }
   ],
   "source": [
    "python[:2:1]"
   ]
  },
  {
   "cell_type": "code",
   "execution_count": 24,
   "id": "df8fcdeb",
   "metadata": {},
   "outputs": [
    {
     "name": "stdout",
     "output_type": "stream",
     "text": [
      "welcome Good Moring\n"
     ]
    }
   ],
   "source": [
    "str1 = \"welcome\"\n",
    "str2 = 'Good Moring'\n",
    "\n",
    "str3 = str1+\" \"+str2\n",
    "print(str3)"
   ]
  },
  {
   "cell_type": "code",
   "execution_count": 36,
   "id": "fef6e8ad",
   "metadata": {},
   "outputs": [
    {
     "name": "stdout",
     "output_type": "stream",
     "text": [
      "Enter Your Name:Manikandan\n",
      "your name added in The list Manikandan\n",
      "Manikandan welcome \n",
      "coiming agin Manikandan\n"
     ]
    }
   ],
   "source": [
    "name = input(\"Enter Your Name:\")\n",
    "\n",
    "print(\"your name added in The list\",name)\n",
    "print(f'{name} welcome ')\n",
    "print(\"coiming agin {}\".format(name))"
   ]
  },
  {
   "cell_type": "markdown",
   "id": "83dc6761",
   "metadata": {},
   "source": [
    "## Print Lines \" \\ \" method"
   ]
  },
  {
   "cell_type": "code",
   "execution_count": 32,
   "id": "0d37aa2a",
   "metadata": {},
   "outputs": [
    {
     "name": "stdout",
     "output_type": "stream",
     "text": [
      "I know \n",
      " SQL \n",
      " excel \n",
      " Python\n"
     ]
    }
   ],
   "source": [
    "string = \"I know \\n SQL \\n excel \\n Python\"\n",
    "\n",
    "print(string)"
   ]
  },
  {
   "cell_type": "code",
   "execution_count": 37,
   "id": "7d057ed8",
   "metadata": {},
   "outputs": [
    {
     "name": "stdout",
     "output_type": "stream",
     "text": [
      "My name is Manikandan\n"
     ]
    }
   ],
   "source": [
    "print(f'My name is {name}')"
   ]
  },
  {
   "cell_type": "code",
   "execution_count": 10,
   "id": "8aef7920",
   "metadata": {},
   "outputs": [
    {
     "name": "stdout",
     "output_type": "stream",
     "text": [
      "The road is traffic\n"
     ]
    }
   ],
   "source": [
    "a = \"traffic\"\n",
    "print(f'The road is {a}')"
   ]
  },
  {
   "cell_type": "code",
   "execution_count": 12,
   "id": "83ae255e",
   "metadata": {},
   "outputs": [
    {
     "name": "stdout",
     "output_type": "stream",
     "text": [
      "The road is traffic\n"
     ]
    }
   ],
   "source": [
    "print(\"The road is {0}\".format(a))"
   ]
  },
  {
   "cell_type": "code",
   "execution_count": 13,
   "id": "1533d621",
   "metadata": {},
   "outputs": [
    {
     "data": {
      "text/plain": [
       "'TRAFFIC'"
      ]
     },
     "execution_count": 13,
     "metadata": {},
     "output_type": "execute_result"
    }
   ],
   "source": [
    "a.upper()"
   ]
  },
  {
   "cell_type": "code",
   "execution_count": 15,
   "id": "dfd0a383",
   "metadata": {},
   "outputs": [
    {
     "data": {
      "text/plain": [
       "7"
      ]
     },
     "execution_count": 15,
     "metadata": {},
     "output_type": "execute_result"
    }
   ],
   "source": [
    "len(a)"
   ]
  },
  {
   "cell_type": "code",
   "execution_count": 17,
   "id": "ea7265f7",
   "metadata": {},
   "outputs": [
    {
     "data": {
      "text/plain": [
       "'traffic'"
      ]
     },
     "execution_count": 17,
     "metadata": {},
     "output_type": "execute_result"
    }
   ],
   "source": [
    "a.lower()"
   ]
  },
  {
   "cell_type": "code",
   "execution_count": 54,
   "id": "019467da",
   "metadata": {},
   "outputs": [
    {
     "name": "stdout",
     "output_type": "stream",
     "text": [
      "Python Programming is hlep to Big data 752345 field\n"
     ]
    }
   ],
   "source": [
    "p = \"Python\"\n",
    "q = \"Programming\"\n",
    "mark = 752345\n",
    "\n",
    "print(\"%s %s is hlep to Big data %d field\" %(p,q,mark))"
   ]
  },
  {
   "cell_type": "code",
   "execution_count": 22,
   "id": "17a1697d",
   "metadata": {},
   "outputs": [
    {
     "data": {
      "text/plain": [
       "'Learn Information'"
      ]
     },
     "execution_count": 22,
     "metadata": {},
     "output_type": "execute_result"
    }
   ],
   "source": [
    "value = \"     Learn Information     \"\n",
    "value.strip()"
   ]
  },
  {
   "cell_type": "code",
   "execution_count": 39,
   "id": "8e19e0e1",
   "metadata": {},
   "outputs": [
    {
     "data": {
      "text/plain": [
       "False"
      ]
     },
     "execution_count": 39,
     "metadata": {},
     "output_type": "execute_result"
    }
   ],
   "source": [
    "mark = \"89265\"\n",
    "mark.isdigit()\n",
    "\n",
    "marks = \" sklaoisf\"\n",
    "marks.isdigit()"
   ]
  },
  {
   "cell_type": "code",
   "execution_count": 37,
   "id": "e2cde760",
   "metadata": {},
   "outputs": [
    {
     "data": {
      "text/plain": [
       "False"
      ]
     },
     "execution_count": 37,
     "metadata": {},
     "output_type": "execute_result"
    }
   ],
   "source": [
    "alpha = \"Apple\"\n",
    "\n",
    "alpha.isalpha()"
   ]
  },
  {
   "cell_type": "code",
   "execution_count": 42,
   "id": "ef2349c6",
   "metadata": {},
   "outputs": [
    {
     "data": {
      "text/plain": [
       "True"
      ]
     },
     "execution_count": 42,
     "metadata": {},
     "output_type": "execute_result"
    }
   ],
   "source": [
    "emty = \" \"\n",
    "emty.isspace()"
   ]
  },
  {
   "cell_type": "code",
   "execution_count": 44,
   "id": "035e93de",
   "metadata": {},
   "outputs": [
    {
     "data": {
      "text/plain": [
       "4"
      ]
     },
     "execution_count": 44,
     "metadata": {},
     "output_type": "execute_result"
    }
   ],
   "source": [
    "alpha.find(\"l\")"
   ]
  },
  {
   "cell_type": "code",
   "execution_count": 49,
   "id": "e3225bb7",
   "metadata": {},
   "outputs": [
    {
     "data": {
      "text/plain": [
       "' Thalapalayam'"
      ]
     },
     "execution_count": 49,
     "metadata": {},
     "output_type": "execute_result"
    }
   ],
   "source": [
    "address = \"19, Thalapalayam, Olagadam, Bhavani, Erode - 638314\"\n",
    "add = address.split(\",\")\n",
    "add[1]"
   ]
  },
  {
   "cell_type": "code",
   "execution_count": 50,
   "id": "824ed5a0",
   "metadata": {},
   "outputs": [
    {
     "data": {
      "text/plain": [
       "True"
      ]
     },
     "execution_count": 50,
     "metadata": {},
     "output_type": "execute_result"
    }
   ],
   "source": [
    "address in address"
   ]
  },
  {
   "cell_type": "code",
   "execution_count": 51,
   "id": "693f475d",
   "metadata": {},
   "outputs": [
    {
     "data": {
      "text/plain": [
       "False"
      ]
     },
     "execution_count": 51,
     "metadata": {},
     "output_type": "execute_result"
    }
   ],
   "source": [
    "address not in address"
   ]
  },
  {
   "cell_type": "code",
   "execution_count": 52,
   "id": "1e654cac",
   "metadata": {},
   "outputs": [
    {
     "data": {
      "text/plain": [
       "True"
      ]
     },
     "execution_count": 52,
     "metadata": {},
     "output_type": "execute_result"
    }
   ],
   "source": [
    "address in address"
   ]
  },
  {
   "cell_type": "code",
   "execution_count": 55,
   "id": "66484215",
   "metadata": {},
   "outputs": [
    {
     "name": "stdout",
     "output_type": "stream",
     "text": [
      "Enter your Tamil Mark:81\n",
      "Enter your English Mark:63\n",
      "Enter your Math Mark:85\n",
      "My Mark is \n",
      " Tamil 81,\n",
      " English 63,\n",
      " Math 85, \n"
     ]
    }
   ],
   "source": [
    "Tamil = int(input(\"Enter your Tamil Mark:\"))\n",
    "English = int(input(\"Enter your English Mark:\"))\n",
    "Math = int(input(\"Enter your Math Mark:\"))\n",
    "\n",
    "print(\"My Mark is \\n Tamil %d,\\n English %d,\\n Math %d, \" %(Tamil, English, Math))"
   ]
  },
  {
   "cell_type": "code",
   "execution_count": 61,
   "id": "efb357d7",
   "metadata": {},
   "outputs": [
    {
     "data": {
      "text/plain": [
       "False"
      ]
     },
     "execution_count": 61,
     "metadata": {},
     "output_type": "execute_result"
    }
   ],
   "source": [
    "Tamil is English"
   ]
  },
  {
   "cell_type": "code",
   "execution_count": null,
   "id": "87ab1b4e",
   "metadata": {},
   "outputs": [],
   "source": []
  },
  {
   "cell_type": "code",
   "execution_count": null,
   "id": "d5b975c6",
   "metadata": {},
   "outputs": [],
   "source": []
  },
  {
   "cell_type": "code",
   "execution_count": null,
   "id": "60849340",
   "metadata": {},
   "outputs": [],
   "source": []
  },
  {
   "cell_type": "code",
   "execution_count": null,
   "id": "468d10b9",
   "metadata": {},
   "outputs": [],
   "source": []
  },
  {
   "cell_type": "code",
   "execution_count": null,
   "id": "8f3afba2",
   "metadata": {},
   "outputs": [],
   "source": []
  },
  {
   "cell_type": "code",
   "execution_count": null,
   "id": "379ff46f",
   "metadata": {},
   "outputs": [],
   "source": []
  }
 ],
 "metadata": {
  "kernelspec": {
   "display_name": "Python 3 (ipykernel)",
   "language": "python",
   "name": "python3"
  },
  "language_info": {
   "codemirror_mode": {
    "name": "ipython",
    "version": 3
   },
   "file_extension": ".py",
   "mimetype": "text/x-python",
   "name": "python",
   "nbconvert_exporter": "python",
   "pygments_lexer": "ipython3",
   "version": "3.11.4"
  }
 },
 "nbformat": 4,
 "nbformat_minor": 5
}
