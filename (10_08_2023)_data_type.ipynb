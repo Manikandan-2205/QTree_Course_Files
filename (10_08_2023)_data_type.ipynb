{
 "cells": [
  {
   "cell_type": "markdown",
   "id": "868b0583",
   "metadata": {},
   "source": [
    "# List"
   ]
  },
  {
   "cell_type": "code",
   "execution_count": 68,
   "id": "6fc92e3b",
   "metadata": {},
   "outputs": [
    {
     "name": "stdout",
     "output_type": "stream",
     "text": [
      "[1, 2, 3, 4, 5, 6]\n"
     ]
    }
   ],
   "source": [
    "list = [1,2,3,4,5,6]\n",
    "print(list)"
   ]
  },
  {
   "cell_type": "code",
   "execution_count": 2,
   "id": "c1b2b2d3",
   "metadata": {},
   "outputs": [
    {
     "data": {
      "text/plain": [
       "list"
      ]
     },
     "execution_count": 2,
     "metadata": {},
     "output_type": "execute_result"
    }
   ],
   "source": [
    "type(list)"
   ]
  },
  {
   "cell_type": "code",
   "execution_count": 3,
   "id": "932a0a16",
   "metadata": {},
   "outputs": [
    {
     "data": {
      "text/plain": [
       "6"
      ]
     },
     "execution_count": 3,
     "metadata": {},
     "output_type": "execute_result"
    }
   ],
   "source": [
    "len(list)"
   ]
  },
  {
   "cell_type": "code",
   "execution_count": 4,
   "id": "2ef3b017",
   "metadata": {},
   "outputs": [
    {
     "data": {
      "text/plain": [
       "[1, 2, 3, 4, 5, 6]"
      ]
     },
     "execution_count": 4,
     "metadata": {},
     "output_type": "execute_result"
    }
   ],
   "source": [
    "list[0:]"
   ]
  },
  {
   "cell_type": "code",
   "execution_count": 5,
   "id": "383fcc00",
   "metadata": {},
   "outputs": [
    {
     "data": {
      "text/plain": [
       "[1, 2, 3, 4]"
      ]
     },
     "execution_count": 5,
     "metadata": {},
     "output_type": "execute_result"
    }
   ],
   "source": [
    "list[:4]"
   ]
  },
  {
   "cell_type": "code",
   "execution_count": 6,
   "id": "9d69a116",
   "metadata": {},
   "outputs": [
    {
     "data": {
      "text/plain": [
       "[6, 5, 4, 3, 2, 1]"
      ]
     },
     "execution_count": 6,
     "metadata": {},
     "output_type": "execute_result"
    }
   ],
   "source": [
    "list[::-1]"
   ]
  },
  {
   "cell_type": "code",
   "execution_count": 7,
   "id": "b3ce3d0a",
   "metadata": {},
   "outputs": [
    {
     "data": {
      "text/plain": [
       "[1, 2, 3, 4, 5]"
      ]
     },
     "execution_count": 7,
     "metadata": {},
     "output_type": "execute_result"
    }
   ],
   "source": [
    "list[:-1]"
   ]
  },
  {
   "cell_type": "code",
   "execution_count": 12,
   "id": "6c69ea63",
   "metadata": {},
   "outputs": [
    {
     "data": {
      "text/plain": [
       "[3, 4, 5, 6]"
      ]
     },
     "execution_count": 12,
     "metadata": {},
     "output_type": "execute_result"
    }
   ],
   "source": [
    "list[-4:]"
   ]
  },
  {
   "cell_type": "code",
   "execution_count": 25,
   "id": "24113f89",
   "metadata": {},
   "outputs": [
    {
     "name": "stdout",
     "output_type": "stream",
     "text": [
      "[1, 2, 3, 4, 5, 6, 3, 3, 3, 3]\n"
     ]
    }
   ],
   "source": [
    "list.append(3)\n",
    "print(list)"
   ]
  },
  {
   "cell_type": "code",
   "execution_count": 30,
   "id": "fb9f3897",
   "metadata": {},
   "outputs": [],
   "source": [
    "del list[6:]"
   ]
  },
  {
   "cell_type": "code",
   "execution_count": 31,
   "id": "95721e11",
   "metadata": {},
   "outputs": [
    {
     "data": {
      "text/plain": [
       "[1, 2, 3, 4, 5, 6]"
      ]
     },
     "execution_count": 31,
     "metadata": {},
     "output_type": "execute_result"
    }
   ],
   "source": [
    "list"
   ]
  },
  {
   "cell_type": "code",
   "execution_count": 32,
   "id": "78fb9d88",
   "metadata": {},
   "outputs": [],
   "source": [
    "list1 = list\n",
    "list2 = list.copy()\n",
    "list3 = list1+list2"
   ]
  },
  {
   "cell_type": "code",
   "execution_count": 33,
   "id": "5b67281f",
   "metadata": {},
   "outputs": [
    {
     "name": "stdout",
     "output_type": "stream",
     "text": [
      "[1, 2, 3, 4, 5, 6, 1, 2, 3, 4, 5, 6]\n"
     ]
    }
   ],
   "source": [
    "print(list3)"
   ]
  },
  {
   "cell_type": "code",
   "execution_count": 37,
   "id": "2200b5f0",
   "metadata": {},
   "outputs": [
    {
     "name": "stdout",
     "output_type": "stream",
     "text": [
      "value: [1, 2, 3, 4, 5, 6, 1, 2, 3, 4, 5, 6]\n"
     ]
    }
   ],
   "source": [
    "print(\"value:\",list1+list2)"
   ]
  },
  {
   "cell_type": "code",
   "execution_count": 38,
   "id": "89895f7f",
   "metadata": {},
   "outputs": [
    {
     "name": "stdout",
     "output_type": "stream",
     "text": [
      "['apple', 'banana', 'cherry', 'orange', 'grape']\n"
     ]
    }
   ],
   "source": [
    "fruits = ['apple', 'banana', 'cherry']\n",
    "more_fruits = ['orange', 'grape']\n",
    "fruits.extend(more_fruits)\n",
    "print(fruits)"
   ]
  },
  {
   "cell_type": "code",
   "execution_count": 41,
   "id": "d8f7e030",
   "metadata": {},
   "outputs": [
    {
     "data": {
      "text/plain": [
       "2"
      ]
     },
     "execution_count": 41,
     "metadata": {},
     "output_type": "execute_result"
    }
   ],
   "source": [
    "list3.count(1)\n"
   ]
  },
  {
   "cell_type": "code",
   "execution_count": 49,
   "id": "4e8c97c2",
   "metadata": {},
   "outputs": [
    {
     "data": {
      "text/plain": [
       "5"
      ]
     },
     "execution_count": 49,
     "metadata": {},
     "output_type": "execute_result"
    }
   ],
   "source": [
    "list3.index(6)\n"
   ]
  },
  {
   "cell_type": "code",
   "execution_count": 50,
   "id": "3d53bf43",
   "metadata": {},
   "outputs": [
    {
     "name": "stdout",
     "output_type": "stream",
     "text": [
      "1 2 3 4 5 6 1 2 3 4 5 6 "
     ]
    }
   ],
   "source": [
    "for i in list3:\n",
    "    print(i,end=\" \")"
   ]
  },
  {
   "cell_type": "code",
   "execution_count": 53,
   "id": "d29453cd",
   "metadata": {},
   "outputs": [
    {
     "name": "stdout",
     "output_type": "stream",
     "text": [
      "The Two list are equal\n"
     ]
    }
   ],
   "source": [
    "if list1==list1:\n",
    "    print(\"The Two list are equal\")\n",
    "else:\n",
    "    print(\"The not equal\")"
   ]
  },
  {
   "cell_type": "markdown",
   "id": "3b314123",
   "metadata": {},
   "source": [
    "## reverse()"
   ]
  },
  {
   "cell_type": "code",
   "execution_count": 59,
   "id": "1774a55d",
   "metadata": {},
   "outputs": [
    {
     "data": {
      "text/plain": [
       "[1, 2, 3, 4, 5, 6]"
      ]
     },
     "execution_count": 59,
     "metadata": {},
     "output_type": "execute_result"
    }
   ],
   "source": [
    "list[::-1]"
   ]
  },
  {
   "cell_type": "code",
   "execution_count": 60,
   "id": "f7f55f35",
   "metadata": {},
   "outputs": [],
   "source": [
    "list.sort()"
   ]
  },
  {
   "cell_type": "code",
   "execution_count": 72,
   "id": "0b864e19",
   "metadata": {},
   "outputs": [
    {
     "name": "stdout",
     "output_type": "stream",
     "text": [
      "4\n"
     ]
    }
   ],
   "source": [
    "List = [1, 2, 3, 1, 2, 1, 2, 3, 2, 1]\n",
    "print(List.index(2, 3, 6))"
   ]
  },
  {
   "cell_type": "code",
   "execution_count": 73,
   "id": "137c6e10",
   "metadata": {},
   "outputs": [
    {
     "name": "stdout",
     "output_type": "stream",
     "text": [
      "[3, 3, 2, 2, 2, 2, 1, 1, 1, 1]\n"
     ]
    }
   ],
   "source": [
    "List.sort(reverse=True)\n",
    "\n",
    "print(List)"
   ]
  },
  {
   "cell_type": "code",
   "execution_count": 70,
   "id": "4bbc9996",
   "metadata": {},
   "outputs": [
    {
     "name": "stdout",
     "output_type": "stream",
     "text": [
      "[5.33, 4.445, 3, 2.5, 2.3, 1.054]\n"
     ]
    }
   ],
   "source": [
    "List = [2.3, 4.445, 3, 5.33, 1.054, 2.5]\n",
    "List.sort(reverse=True)\n",
    " \n",
    "print(List) "
   ]
  },
  {
   "cell_type": "markdown",
   "id": "6b67b60f",
   "metadata": {},
   "source": [
    "# Dict()"
   ]
  },
  {
   "cell_type": "code",
   "execution_count": 2,
   "id": "1253d101",
   "metadata": {},
   "outputs": [
    {
     "name": "stdout",
     "output_type": "stream",
     "text": [
      "{}\n"
     ]
    }
   ],
   "source": [
    "dit = {}\n",
    "print(dit)"
   ]
  },
  {
   "cell_type": "code",
   "execution_count": 3,
   "id": "c1f77e8c",
   "metadata": {},
   "outputs": [
    {
     "name": "stdout",
     "output_type": "stream",
     "text": [
      "{}\n"
     ]
    }
   ],
   "source": [
    "stu = dict()\n",
    "print(stu)"
   ]
  },
  {
   "cell_type": "code",
   "execution_count": 4,
   "id": "a5ce8297",
   "metadata": {},
   "outputs": [],
   "source": [
    "stu[\"Student\"] = [\"Marks\"]"
   ]
  },
  {
   "cell_type": "code",
   "execution_count": 5,
   "id": "1e3c4e74",
   "metadata": {},
   "outputs": [
    {
     "name": "stdout",
     "output_type": "stream",
     "text": [
      "{'Student': ['Marks']}\n"
     ]
    }
   ],
   "source": [
    "print(stu)"
   ]
  },
  {
   "cell_type": "code",
   "execution_count": 15,
   "id": "9ffbb890",
   "metadata": {},
   "outputs": [],
   "source": [
    "stu[\"Subject\"] = [81,63,85,97,100]"
   ]
  },
  {
   "cell_type": "code",
   "execution_count": 13,
   "id": "2dc886cd",
   "metadata": {},
   "outputs": [
    {
     "name": "stdout",
     "output_type": "stream",
     "text": [
      "{'Student': ['Marks'], 'Subject': 'Manikandan'}\n"
     ]
    }
   ],
   "source": [
    "print(stu)"
   ]
  },
  {
   "cell_type": "code",
   "execution_count": 11,
   "id": "2dc8cb74",
   "metadata": {},
   "outputs": [],
   "source": [
    "stu[\"Subject\"] = \"Manikandan\""
   ]
  },
  {
   "cell_type": "code",
   "execution_count": 16,
   "id": "0c5cd720",
   "metadata": {},
   "outputs": [
    {
     "name": "stdout",
     "output_type": "stream",
     "text": [
      "{'Student': ['Marks'], 'Subject': [81, 63, 85, 97, 100]}\n"
     ]
    }
   ],
   "source": [
    "print(stu)"
   ]
  },
  {
   "cell_type": "code",
   "execution_count": 17,
   "id": "e0977435",
   "metadata": {},
   "outputs": [
    {
     "ename": "AttributeError",
     "evalue": "'dict' object has no attribute 'rename'",
     "output_type": "error",
     "traceback": [
      "\u001b[1;31m---------------------------------------------------------------------------\u001b[0m",
      "\u001b[1;31mAttributeError\u001b[0m                            Traceback (most recent call last)",
      "Cell \u001b[1;32mIn[17], line 1\u001b[0m\n\u001b[1;32m----> 1\u001b[0m \u001b[43mstu\u001b[49m\u001b[38;5;241;43m.\u001b[39;49m\u001b[43mrename\u001b[49m(\u001b[38;5;124m\"\u001b[39m\u001b[38;5;124mSubject\u001b[39m\u001b[38;5;124m\"\u001b[39m,\u001b[38;5;124m\"\u001b[39m\u001b[38;5;124mManikandan\u001b[39m\u001b[38;5;124m\"\u001b[39m)\n\u001b[0;32m      2\u001b[0m \u001b[38;5;28mprint\u001b[39m(stu)\n",
      "\u001b[1;31mAttributeError\u001b[0m: 'dict' object has no attribute 'rename'"
     ]
    }
   ],
   "source": [
    "stu.rename(\"Subject\",\"Manikandan\")\n",
    "print(stu)"
   ]
  },
  {
   "cell_type": "code",
   "execution_count": 18,
   "id": "c771b4de",
   "metadata": {},
   "outputs": [
    {
     "name": "stdout",
     "output_type": "stream",
     "text": [
      "[81, 63, 85, 97, 100]\n"
     ]
    }
   ],
   "source": [
    "print(stu[\"Subject\"])"
   ]
  },
  {
   "cell_type": "code",
   "execution_count": 21,
   "id": "6d84374a",
   "metadata": {},
   "outputs": [
    {
     "name": "stdout",
     "output_type": "stream",
     "text": [
      "{'Student': ['Marks'], 'Subject': [81, 63, 85, 97, 100], 'Manikandan': [81, 63, 85, 97, 100]}\n"
     ]
    }
   ],
   "source": [
    "stu[\"Manikandan\"] = stu[\"Subject\"]\n",
    "print(stu)"
   ]
  },
  {
   "cell_type": "code",
   "execution_count": 22,
   "id": "4ba095f7",
   "metadata": {},
   "outputs": [],
   "source": [
    "del stu[\"Subject\"]"
   ]
  },
  {
   "cell_type": "code",
   "execution_count": 23,
   "id": "779dcf50",
   "metadata": {},
   "outputs": [
    {
     "name": "stdout",
     "output_type": "stream",
     "text": [
      "{'Student': ['Marks'], 'Manikandan': [81, 63, 85, 97, 100]}\n"
     ]
    }
   ],
   "source": [
    "print(stu)"
   ]
  },
  {
   "cell_type": "code",
   "execution_count": 24,
   "id": "faac09d2",
   "metadata": {},
   "outputs": [],
   "source": [
    "import pandas as pd"
   ]
  },
  {
   "cell_type": "code",
   "execution_count": 45,
   "id": "4232b931",
   "metadata": {},
   "outputs": [],
   "source": [
    "df = pd.DataFrame(stu)"
   ]
  },
  {
   "cell_type": "code",
   "execution_count": 34,
   "id": "51e4f807",
   "metadata": {},
   "outputs": [],
   "source": [
    "stu[\"Student\"] = [\"Tamil\",\"English\",\"Math\",\"Science\",\"Social\"]"
   ]
  },
  {
   "cell_type": "code",
   "execution_count": 36,
   "id": "a72af47c",
   "metadata": {},
   "outputs": [
    {
     "name": "stdout",
     "output_type": "stream",
     "text": [
      "   Student  Manikandan\n",
      "0    Tamil          81\n",
      "1  English          63\n",
      "2     Math          85\n",
      "3  Science          97\n",
      "4   Social         100\n"
     ]
    }
   ],
   "source": [
    "print(df)"
   ]
  },
  {
   "cell_type": "code",
   "execution_count": 42,
   "id": "30adfdd3",
   "metadata": {},
   "outputs": [],
   "source": [
    "stu[\"Marks\"] = stu[\"Manikandan\"]"
   ]
  },
  {
   "cell_type": "code",
   "execution_count": 40,
   "id": "8f632778",
   "metadata": {},
   "outputs": [
    {
     "name": "stdout",
     "output_type": "stream",
     "text": [
      "{'Manikandan': [81, 63, 85, 97, 100], 'Subject': ['Tamil', 'English', 'Math', 'Science', 'Social']}\n"
     ]
    }
   ],
   "source": [
    "print(stu)"
   ]
  },
  {
   "cell_type": "code",
   "execution_count": 43,
   "id": "70e73f28",
   "metadata": {},
   "outputs": [],
   "source": [
    "del stu[\"Manikandan\"]"
   ]
  },
  {
   "cell_type": "code",
   "execution_count": 44,
   "id": "8a9bb062",
   "metadata": {},
   "outputs": [
    {
     "name": "stdout",
     "output_type": "stream",
     "text": [
      "{'Subject': ['Tamil', 'English', 'Math', 'Science', 'Social'], 'Marks': [81, 63, 85, 97, 100]}\n"
     ]
    }
   ],
   "source": [
    "print(stu)"
   ]
  },
  {
   "cell_type": "code",
   "execution_count": 46,
   "id": "b6aa0b1f",
   "metadata": {},
   "outputs": [
    {
     "name": "stdout",
     "output_type": "stream",
     "text": [
      "   Subject  Marks\n",
      "0    Tamil     81\n",
      "1  English     63\n",
      "2     Math     85\n",
      "3  Science     97\n",
      "4   Social    100\n"
     ]
    }
   ],
   "source": [
    "print(df)"
   ]
  },
  {
   "cell_type": "code",
   "execution_count": 47,
   "id": "7e0875b6",
   "metadata": {},
   "outputs": [
    {
     "name": "stdout",
     "output_type": "stream",
     "text": [
      "dict_keys(['Subject', 'Marks'])\n"
     ]
    }
   ],
   "source": [
    "print(stu.keys())"
   ]
  },
  {
   "cell_type": "code",
   "execution_count": 48,
   "id": "41fe9822",
   "metadata": {},
   "outputs": [
    {
     "name": "stdout",
     "output_type": "stream",
     "text": [
      "dict_items([('Subject', ['Tamil', 'English', 'Math', 'Science', 'Social']), ('Marks', [81, 63, 85, 97, 100])])\n"
     ]
    }
   ],
   "source": [
    "print(stu.items())"
   ]
  },
  {
   "cell_type": "code",
   "execution_count": 1,
   "id": "2c5e6da2",
   "metadata": {},
   "outputs": [
    {
     "name": "stdout",
     "output_type": "stream",
     "text": [
      "{'Type': 'BMW', 'Model': 'E4c', 'Year': 1946}\n",
      "{'Type': 'BMW', 'Model': 'E4c', 'Year': 1946}\n"
     ]
    }
   ],
   "source": [
    "car = {\"Type\":\"BMW\",\"Model\":\"E4c\", \"Year\":1946}\n",
    "print(car)\n",
    "car2= car.copy()\n",
    "print(car2)"
   ]
  },
  {
   "cell_type": "code",
   "execution_count": null,
   "id": "fd21a044",
   "metadata": {},
   "outputs": [],
   "source": []
  },
  {
   "cell_type": "code",
   "execution_count": null,
   "id": "9b7a6d5c",
   "metadata": {},
   "outputs": [],
   "source": []
  },
  {
   "cell_type": "code",
   "execution_count": null,
   "id": "5e47ba75",
   "metadata": {},
   "outputs": [],
   "source": []
  }
 ],
 "metadata": {
  "kernelspec": {
   "display_name": "Python 3 (ipykernel)",
   "language": "python",
   "name": "python3"
  },
  "language_info": {
   "codemirror_mode": {
    "name": "ipython",
    "version": 3
   },
   "file_extension": ".py",
   "mimetype": "text/x-python",
   "name": "python",
   "nbconvert_exporter": "python",
   "pygments_lexer": "ipython3",
   "version": "3.11.4"
  }
 },
 "nbformat": 4,
 "nbformat_minor": 5
}
