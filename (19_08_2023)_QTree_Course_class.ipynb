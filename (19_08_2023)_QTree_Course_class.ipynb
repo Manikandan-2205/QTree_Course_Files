{
 "cells": [
  {
   "cell_type": "code",
   "execution_count": 2,
   "id": "3bb37a84",
   "metadata": {},
   "outputs": [
    {
     "name": "stdout",
     "output_type": "stream",
     "text": [
      "15\n"
     ]
    }
   ],
   "source": [
    "# 1) \n",
    "def fun1(a, b): \n",
    "     def fun2(c, d): \n",
    "        return c + d \n",
    "     return fun2(a, b) \n",
    "res = fun1(5, 10) \n",
    "print(res) \n",
    "# Output of the above program \n",
    "\n",
    "# ANS: 15"
   ]
  },
  {
   "cell_type": "code",
   "execution_count": 8,
   "id": "7ede3490",
   "metadata": {},
   "outputs": [
    {
     "name": "stdout",
     "output_type": "stream",
     "text": [
      "[2, 4, 6, 8]\n"
     ]
    }
   ],
   "source": [
    "# 2) \n",
    "# Write a Python program to print the even numbers from a given list.(Use Lambda) Sample List : [1, 2, 3, 4, 5, 6, 7, 8, 9] \n",
    "# Expected Result : [2, 4, 6, 8] \n",
    "a = [1,2,3,4,5,6,7,8,9]\n",
    "even  = filter (lambda a: a%2 == 0, a)\n",
    "print(list(even))"
   ]
  },
  {
   "cell_type": "code",
   "execution_count": null,
   "id": "ed6cde6b",
   "metadata": {},
   "outputs": [],
   "source": [
    "# 3) \n",
    "# def sunny(): \n",
    "#  print(\"It is sunny day!\") \n",
    "# def rainy(): \n",
    "#  print(\"Oops! its raining\") \n",
    "# def snowy(): \n",
    "#  print(\"Wow! its snowing\") \n",
    "# weather_today = input(\"Whats the weather today:\") \n",
    "# if weather_today == \"sunny\": \n",
    "#  sunny() \n",
    "# elif weather_today == \"rainy\": \n",
    "#  rainy() \n",
    "# elif weather_today == \"snowy\":\n",
    "#  snowy() \n",
    "# else: \n",
    "#  print(f\"Not avaibale for {weather_today}\") \n",
    "# Output of the above program \n",
    "\n",
    "'''ANS: 1\n",
    "Whats the weather today: sunny\n",
    "It is sunny day!\n",
    "ANS: 2\n",
    "Whats the weather today: rainy\n",
    "Oops! its raining\n",
    "ANS: 3\n",
    "Whats the weather today: snowy\n",
    "Wow! its snowing\n",
    "ANS: 4\n",
    "Whats the weather today: no\n",
    "Not avaibale for no\n",
    "'''"
   ]
  },
  {
   "cell_type": "code",
   "execution_count": 14,
   "id": "9066c942",
   "metadata": {},
   "outputs": [
    {
     "data": {
      "text/plain": [
       "'Ponniyin Selvan was written by Kalki'"
      ]
     },
     "execution_count": 14,
     "metadata": {},
     "output_type": "execute_result"
    }
   ],
   "source": [
    "# 4) \n",
    "def favorite_book(title, author): \n",
    "     return(f\"{title} was written by {author}\") \n",
    "favorite_book(\"Ponniyin Selvan\", \"Kalki\") \n",
    "# Output of the above program \n",
    "\n",
    "#  ANS: Ponniyin Selvan was written by Kalki"
   ]
  },
  {
   "cell_type": "code",
   "execution_count": 19,
   "id": "53f24bff",
   "metadata": {},
   "outputs": [
    {
     "name": "stdout",
     "output_type": "stream",
     "text": [
      "Enter a year:2023\n",
      "2023 is not a leap year.\n"
     ]
    },
    {
     "data": {
      "text/plain": [
       "'\\nANS: 1\\nEnter a year: 1098\\n1098 is not a leap year.\\nANS: 2\\nEnter a year: 1117\\n1117 is not a leap year.\\nANS: 3\\nEnter a year: 2023\\n'"
      ]
     },
     "execution_count": 19,
     "metadata": {},
     "output_type": "execute_result"
    }
   ],
   "source": [
    "# 5) \n",
    "def is_leap(year): \n",
    "    if year % 4 == 0 and year % 100 != 0: \n",
    "        print(f\"{year} is a leap year.\") \n",
    "    elif year % 400 == 0: \n",
    "        print(f\"{year} is a leap year.\") \n",
    "    elif year % 100 == 0: \n",
    "        print(f\"{year} is not a leap year.\") \n",
    "    else: \n",
    "        print(f\"{year} is not a leap year.\") \n",
    "year = int(input(\"Enter a year:\")) \n",
    "is_leap(year) \n",
    "# Input to be Given:  \n",
    "# i)1098 ii)1117 iii)2023 \n",
    "# Find the output \n",
    "\n",
    "'''\n",
    "ANS: 1\n",
    "Enter a year: 1098\n",
    "1098 is not a leap year.\n",
    "ANS: 2\n",
    "Enter a year: 1117\n",
    "1117 is not a leap year.\n",
    "ANS: 3\n",
    "Enter a year: 2023\n",
    "2023 is not a leap year.\n",
    "'''"
   ]
  },
  {
   "cell_type": "code",
   "execution_count": 7,
   "id": "449f6ff4",
   "metadata": {},
   "outputs": [
    {
     "name": "stdout",
     "output_type": "stream",
     "text": [
      "Called Global in Outter Side and Value is:  100\n",
      "Called Local Variable and value is:  101\n",
      "Called Global Variable and value is:  100\n",
      "Called GLobal values in return vlaues: 50\n",
      "Called Local values in return vlaues: 50\n"
     ]
    }
   ],
   "source": [
    "# 6) Write a sample program defining local and global scope of variable. \n",
    "\n",
    "Global_scope = 100\n",
    "\n",
    "def val(Global_scope):\n",
    "    Local_scope = 101\n",
    "    print(\"Called Local Variable and value is: \", Local_scope)\n",
    "    print(\"Called Global Variable and value is: \", Global_scope)\n",
    "    global Local\n",
    "    Local = 50\n",
    "    return Local\n",
    "print(\"Called Global in Outter Side and Value is: \", Global_scope)\n",
    "Return_values = val(Global_scope)\n",
    "print(\"Called GLobal values in return vlaues:\", Return_values)\n",
    "print(\"Called Local values in return vlaues:\", Local)\n",
    "    \n"
   ]
  },
  {
   "cell_type": "code",
   "execution_count": 18,
   "id": "cd8d2273",
   "metadata": {},
   "outputs": [
    {
     "name": "stdout",
     "output_type": "stream",
     "text": [
      "Car Name is:  BMW\n",
      "Tesla Mileage:  30\n",
      "TATA Max_Speed is:  200\n",
      "BMW Mileage:  13\n"
     ]
    }
   ],
   "source": [
    "# 7)\n",
    "class Vehicle: \n",
    "     def __init__(self, name, max_speed, mileage): \n",
    "        self.name = name \n",
    "        self.max_speed = max_speed \n",
    "        self.mileage = mileage \n",
    "class Bus(Vehicle): \n",
    "     pass \n",
    "class Car(Vehicle): \n",
    "     pass \n",
    "# Using above sample code,Create an object for the above class and print name,speed and mileage \n",
    "\n",
    "#  ANSERS \n",
    "obj1 = Bus(\"BMW\",300,13)\n",
    "print(\"Car Name is: \", obj1.name)\n",
    "obj2 = Car(\"Tesla\",250,30)\n",
    "print(\"Tesla Mileage: \", obj2.mileage)\n",
    "obj3 = Vehicle(\"TATA\",200,25)\n",
    "print(\"TATA Max_Speed is: \", obj3.max_speed)\n",
    "print('BMW Mileage: ', obj1.mileage)"
   ]
  },
  {
   "cell_type": "code",
   "execution_count": null,
   "id": "af93ef2e",
   "metadata": {},
   "outputs": [],
   "source": [
    "# 8) \n",
    "class Animal: \n",
    "    def __init__(self, name): \n",
    "        self.name = name \n",
    "    def speak(self): \n",
    "         return f\"{self.name} says hello!\" \n",
    "class Dog(Animal): \n",
    "    def speak(self): \n",
    "        return f\"{self.name} barks!\" \n",
    "dog = Dog(\"Charlie\") \n",
    "print(dog.speak()) \n",
    "# Output of the above program\n",
    "\n",
    "# ANS\n",
    "# Charlie barks!"
   ]
  },
  {
   "cell_type": "code",
   "execution_count": null,
   "id": "06381279",
   "metadata": {},
   "outputs": [],
   "source": []
  },
  {
   "cell_type": "code",
   "execution_count": null,
   "id": "bca472bc",
   "metadata": {},
   "outputs": [],
   "source": []
  },
  {
   "cell_type": "code",
   "execution_count": null,
   "id": "1643e712",
   "metadata": {},
   "outputs": [],
   "source": []
  },
  {
   "cell_type": "code",
   "execution_count": null,
   "id": "10ac1c34",
   "metadata": {},
   "outputs": [],
   "source": []
  },
  {
   "cell_type": "code",
   "execution_count": null,
   "id": "06c04c30",
   "metadata": {},
   "outputs": [],
   "source": []
  }
 ],
 "metadata": {
  "kernelspec": {
   "display_name": "Python 3 (ipykernel)",
   "language": "python",
   "name": "python3"
  },
  "language_info": {
   "codemirror_mode": {
    "name": "ipython",
    "version": 3
   },
   "file_extension": ".py",
   "mimetype": "text/x-python",
   "name": "python",
   "nbconvert_exporter": "python",
   "pygments_lexer": "ipython3",
   "version": "3.11.4"
  }
 },
 "nbformat": 4,
 "nbformat_minor": 5
}
