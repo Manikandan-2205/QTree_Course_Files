{
 "cells": [
  {
   "cell_type": "markdown",
   "id": "d365cfe1",
   "metadata": {},
   "source": [
    "## Conditions"
   ]
  },
  {
   "cell_type": "code",
   "execution_count": 1,
   "id": "1016ef70",
   "metadata": {},
   "outputs": [],
   "source": [
    "# if\n",
    "# if...else\n",
    "# if...elif\n",
    "# if...elif...else\n",
    "# if...if"
   ]
  },
  {
   "cell_type": "code",
   "execution_count": 2,
   "id": "11c5c294",
   "metadata": {},
   "outputs": [
    {
     "name": "stdout",
     "output_type": "stream",
     "text": [
      "Please Enter your are in ('student/staf')staf\n",
      "staf\n"
     ]
    }
   ],
   "source": [
    "user  = input(\"Please Enter your are in ('student/staf')\").lower()\n",
    "print(user)"
   ]
  },
  {
   "cell_type": "code",
   "execution_count": 8,
   "id": "de3680a5",
   "metadata": {},
   "outputs": [
    {
     "name": "stdout",
     "output_type": "stream",
     "text": [
      "Please Enter your are in ('student/staf'):student\n",
      "Enter your name:manikandan\n",
      "['Manikandan']\n",
      "Please Enter your are in ('student/staf'):staf\n",
      "Enter your name:sara\n",
      "['Sara']\n",
      "Please Enter your are in ('student/staf'):parent\n",
      "You are Not in\n"
     ]
    }
   ],
   "source": [
    "student = []\n",
    "staf = []\n",
    "while True:\n",
    "    user  = input(\"Please Enter your are in ('student/staf'):\").lower()\n",
    "    \n",
    "    if user == 'student':\n",
    "        stu_Name = input(\"Enter your name:\").title()\n",
    "        student.append(stu_Name)\n",
    "        print(student)\n",
    "    elif user == 'staf':\n",
    "        staf_Name = input(\"Enter your name:\").title()  \n",
    "        staf.append(staf_Name)\n",
    "        print(staf)\n",
    "    else:\n",
    "        print(\"You are Not in\")\n",
    "        break"
   ]
  },
  {
   "cell_type": "code",
   "execution_count": 9,
   "id": "fa44fdb0",
   "metadata": {},
   "outputs": [
    {
     "name": "stdout",
     "output_type": "stream",
     "text": [
      "['Manikandan'] ['Sara']\n"
     ]
    }
   ],
   "source": [
    "print(student,staf)"
   ]
  },
  {
   "cell_type": "code",
   "execution_count": 19,
   "id": "3f9da2d0",
   "metadata": {},
   "outputs": [
    {
     "name": "stdout",
     "output_type": "stream",
     "text": [
      "0 manikandan\n",
      "1 kathir\n",
      "2 govindraj\n",
      "3 babu\n",
      "4 mahi\n",
      "5 nikesh\n"
     ]
    }
   ],
   "source": [
    "for index, Name in enumerate(student):\n",
    "    print(index, Name)"
   ]
  },
  {
   "cell_type": "code",
   "execution_count": 17,
   "id": "df2f1b0c",
   "metadata": {},
   "outputs": [],
   "source": [
    "student = [\"manikandan\", \"kathir\", \"govindraj\", \"babu\", \"mahi\", \"nikesh\"]"
   ]
  },
  {
   "cell_type": "code",
   "execution_count": null,
   "id": "a0dd16d0",
   "metadata": {},
   "outputs": [],
   "source": []
  },
  {
   "cell_type": "code",
   "execution_count": null,
   "id": "1de69418",
   "metadata": {},
   "outputs": [],
   "source": []
  },
  {
   "cell_type": "code",
   "execution_count": null,
   "id": "edc4aee8",
   "metadata": {},
   "outputs": [],
   "source": []
  },
  {
   "cell_type": "code",
   "execution_count": null,
   "id": "4b727cf0",
   "metadata": {},
   "outputs": [],
   "source": []
  },
  {
   "cell_type": "code",
   "execution_count": null,
   "id": "c51c2573",
   "metadata": {},
   "outputs": [],
   "source": []
  }
 ],
 "metadata": {
  "kernelspec": {
   "display_name": "Python 3 (ipykernel)",
   "language": "python",
   "name": "python3"
  },
  "language_info": {
   "codemirror_mode": {
    "name": "ipython",
    "version": 3
   },
   "file_extension": ".py",
   "mimetype": "text/x-python",
   "name": "python",
   "nbconvert_exporter": "python",
   "pygments_lexer": "ipython3",
   "version": "3.11.4"
  }
 },
 "nbformat": 4,
 "nbformat_minor": 5
}
