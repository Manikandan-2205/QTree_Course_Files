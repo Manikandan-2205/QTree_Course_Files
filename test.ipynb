{
 "cells": [
  {
   "cell_type": "code",
   "execution_count": 1,
   "metadata": {},
   "outputs": [
    {
     "name": "stdout",
     "output_type": "stream",
     "text": [
      "Hi\n"
     ]
    }
   ],
   "source": [
    "print(\"Hi\")"
   ]
  },
  {
   "cell_type": "code",
   "execution_count": 32,
   "metadata": {},
   "outputs": [
    {
     "name": "stdout",
     "output_type": "stream",
     "text": [
      "Petranec, Miss. Matilda\n"
     ]
    }
   ],
   "source": [
    "import numpy as np\n",
    "import pandas as pd\n",
    "df = pd.read_csv('Course_Practice_Files\\pandas_class\\Titanic_data.csv')\n",
    "# print(df)\n",
    "\n",
    "arr = df.to_numpy()\n",
    "# arr = arr[0:100]\n",
    "# arr1 = pd.DataFrame(arr)\n",
    "# print(arr.)\n",
    "for i in range(arr[0,100])\n",
    "    if i"
   ]
  },
  {
   "cell_type": "code",
   "execution_count": 23,
   "metadata": {},
   "outputs": [
    {
     "name": "stdout",
     "output_type": "stream",
     "text": [
      "[[], [], [], [], []]\n",
      "[[10], [10], [10], [10], [10]]\n",
      "[[10, 20], [10, 20], [10, 20], [10, 20], [10, 20]]\n",
      "[[10, 20], [10, 20], [10, 20], [10, 20], [10, 20], 30]\n"
     ]
    }
   ],
   "source": [
    "import numpy as np\n",
    "list1 = [[]]*5\n",
    "print(list1)\n",
    "list1[1].append(10)\n",
    "print(list1)\n",
    "list1[4].append(20)\n",
    "print(list1)\n",
    "list1.append(30)\n",
    "print(list1)"
   ]
  },
  {
   "cell_type": "code",
   "execution_count": 33,
   "metadata": {},
   "outputs": [
    {
     "name": "stdout",
     "output_type": "stream",
     "text": [
      "even\n",
      "even\n",
      "oad\n",
      "even\n"
     ]
    }
   ],
   "source": [
    "dic = {'var1':10,'var2':20,'var3':23,'var4':30}\n",
    "for i in dic.values():\n",
    "    if i%2==0:\n",
    "        print('even')\n",
    "    else:\n",
    "        print('oad')"
   ]
  },
  {
   "cell_type": "code",
   "execution_count": 6,
   "metadata": {},
   "outputs": [
    {
     "name": "stdout",
     "output_type": "stream",
     "text": [
      "[1, 4, 9, 16, 25, 36, 49]\n"
     ]
    }
   ],
   "source": [
    "import math\n",
    "list2 = [1,2,3,4,5,6,7]\n",
    "power = []\n",
    "for index, values in enumerate(list2):\n",
    "    power.append(values**2)\n",
    "print(power)"
   ]
  },
  {
   "cell_type": "code",
   "execution_count": 3,
   "metadata": {},
   "outputs": [
    {
     "name": "stdout",
     "output_type": "stream",
     "text": [
      "2 is a Even number\n",
      "434 is a Even number\n",
      "456 is a Even number\n",
      "345is not even number\n"
     ]
    },
    {
     "ename": "ValueError",
     "evalue": "invalid literal for int() with base 10: ''",
     "output_type": "error",
     "traceback": [
      "\u001b[1;31m---------------------------------------------------------------------------\u001b[0m",
      "\u001b[1;31mValueError\u001b[0m                                Traceback (most recent call last)",
      "Cell \u001b[1;32mIn[3], line 2\u001b[0m\n\u001b[0;32m      1\u001b[0m \u001b[39mwhile\u001b[39;00m \u001b[39mTrue\u001b[39;00m:\n\u001b[1;32m----> 2\u001b[0m     user \u001b[39m=\u001b[39m\u001b[39mint\u001b[39;49m(\u001b[39minput\u001b[39;49m(\u001b[39m\"\u001b[39;49m\u001b[39mEnter your number:\u001b[39;49m\u001b[39m\"\u001b[39;49m))\n\u001b[0;32m      3\u001b[0m     \u001b[39mif\u001b[39;00m user\u001b[39m%\u001b[39m\u001b[39m2\u001b[39m \u001b[39m==\u001b[39m \u001b[39m0\u001b[39m:\n\u001b[0;32m      4\u001b[0m         \u001b[39mprint\u001b[39m(\u001b[39mf\u001b[39m\u001b[39m\"\u001b[39m\u001b[39m{\u001b[39;00muser\u001b[39m \u001b[39m\u001b[39m}\u001b[39;00m\u001b[39m is a Even number\u001b[39m\u001b[39m\"\u001b[39m)\n",
      "\u001b[1;31mValueError\u001b[0m: invalid literal for int() with base 10: ''"
     ]
    }
   ],
   "source": [
    "while True:\n",
    "    user =int(input(\"Enter your number:\"))\n",
    "    if user%2 == 0:\n",
    "        print(f\"{user } is a Even number\")\n",
    "    else:\n",
    "        print(f'{user}is not even number')\n",
    "    "
   ]
  },
  {
   "cell_type": "code",
   "execution_count": 9,
   "metadata": {},
   "outputs": [
    {
     "name": "stdout",
     "output_type": "stream",
     "text": [
      "[4, 9, 16, 25, 36, 49, 64, 81]\n"
     ]
    }
   ],
   "source": [
    "x = [2,3,4,5,6,7,8,9]\n",
    "values=[]\n",
    "for i in x:\n",
    "    i = i**2\n",
    "    values.append(i)\n",
    "print(values)   "
   ]
  },
  {
   "cell_type": "code",
   "execution_count": 20,
   "metadata": {},
   "outputs": [
    {
     "name": "stdout",
     "output_type": "stream",
     "text": [
      "The larest number is 2087509\n"
     ]
    }
   ],
   "source": [
    "a  = 10000\n",
    "b = 2087509\n",
    "c= 18876\n",
    "\n",
    "if a>b != a>c:\n",
    "    print(f\"The larest number is {a}\")\n",
    "elif b>c:\n",
    "    print(f\"The larest number is {b}\")\n",
    "else:\n",
    "    print(f\"The larest number is {c}\")"
   ]
  },
  {
   "cell_type": "code",
   "execution_count": 21,
   "metadata": {},
   "outputs": [
    {
     "name": "stdout",
     "output_type": "stream",
     "text": [
      "True\n"
     ]
    }
   ],
   "source": [
    "a = \"abc123\"\n",
    "print(a.isalnum())"
   ]
  },
  {
   "cell_type": "code",
   "execution_count": null,
   "metadata": {},
   "outputs": [],
   "source": []
  },
  {
   "cell_type": "code",
   "execution_count": null,
   "metadata": {},
   "outputs": [],
   "source": []
  }
 ],
 "metadata": {
  "kernelspec": {
   "display_name": "Python 3 (ipykernel)",
   "language": "python",
   "name": "python3"
  },
  "language_info": {
   "codemirror_mode": {
    "name": "ipython",
    "version": 3
   },
   "file_extension": ".py",
   "mimetype": "text/x-python",
   "name": "python",
   "nbconvert_exporter": "python",
   "pygments_lexer": "ipython3",
   "version": "3.11.4"
  }
 },
 "nbformat": 4,
 "nbformat_minor": 2
}
